{
 "cells": [
  {
   "cell_type": "markdown",
   "id": "6ac33462-95d2-48a3-9c5e-53d7e7536696",
   "metadata": {
    "tags": []
   },
   "source": [
    "#### Check current directory"
   ]
  },
  {
   "cell_type": "code",
   "execution_count": 19,
   "id": "e60ba6ce-c1ef-4b94-996a-e8b2cb16f03a",
   "metadata": {},
   "outputs": [
    {
     "data": {
      "text/plain": [
       "'/home/jovyan/work/data'"
      ]
     },
     "execution_count": 19,
     "metadata": {},
     "output_type": "execute_result"
    }
   ],
   "source": [
    "pwd"
   ]
  },
  {
   "cell_type": "markdown",
   "id": "472a3457-2c28-4212-9a0c-30223b4373f4",
   "metadata": {},
   "source": [
    "#### List files and folders"
   ]
  },
  {
   "cell_type": "code",
   "execution_count": 20,
   "id": "1d24b2ec-72d6-447f-b52b-9a8c4c64428c",
   "metadata": {},
   "outputs": [
    {
     "name": "stdout",
     "output_type": "stream",
     "text": [
      "total 24\n",
      "drwxr-xr-x 2 jovyan jhub_users  4096 Jan 26 10:41 \u001b[0m\u001b[01;34m'mat files'\u001b[0m/\n",
      "lrwxrwxrwx 1 jovyan jhub_users     5 Jan 31 21:48  \u001b[01;36mWindowsData\u001b[0m -> \u001b[34;42m/data\u001b[0m/\n",
      "drwxr-xr-x 5 jovyan jhub_users  4096 Feb  1 22:04  \u001b[01;34mNESE\u001b[0m/\n",
      "-rw-r--r-- 1 jovyan jhub_users 10714 Feb  2 16:08  examplefolder.zip\n",
      "-rw-r--r-- 1 jovyan jhub_users  3699 Feb  2 16:22  Commands.ipynb\n"
     ]
    }
   ],
   "source": [
    "ls -ltr"
   ]
  },
  {
   "cell_type": "markdown",
   "id": "9be7057e-7590-47eb-ba1d-f359d6b9aee6",
   "metadata": {
    "tags": []
   },
   "source": [
    "#### Unzip archive"
   ]
  },
  {
   "cell_type": "code",
   "execution_count": 18,
   "id": "55ab5785-27a8-4496-a447-ce29d5525256",
   "metadata": {},
   "outputs": [
    {
     "name": "stdout",
     "output_type": "stream",
     "text": [
      "Archive:  examplefolder.zip\n",
      "   creating: /home/jovyan/work/mat files/\n",
      " extracting: /home/jovyan/work/mat files/CNT16Ch_PSeries_CNAdaptor.mat  \n",
      " extracting: /home/jovyan/work/mat files/CNT16Ch_PSeries_NNAdaptor.mat  \n",
      "  inflating: /home/jovyan/work/mat files/CNT32Ch_PSeries_CNAdaptor.mat  \n",
      "  inflating: /home/jovyan/work/mat files/ConvertMatProbeFileToPrb.m  \n",
      "  inflating: /home/jovyan/work/mat files/Generic_32Ch_8tetrodes.json  \n",
      "  inflating: /home/jovyan/work/mat files/Generic_32Ch_8tetrodes.mat  \n",
      "  inflating: /home/jovyan/work/mat files/Generic_32Ch_8tetrodes_KSchanMap.mat  \n",
      "  inflating: /home/jovyan/work/mat files/NN32Ch_Buzsaki32_NNAdaptor.mat  \n",
      "  inflating: /home/jovyan/work/mat files/NN_Probe36_CNAdaptor.mat  \n",
      "  inflating: /home/jovyan/work/mat files/NN_Probe36_NNAdaptor.mat  \n"
     ]
    }
   ],
   "source": [
    "# Unzip here:\n",
    "!unzip \"examplefolder.zip\"\n",
    "# Unzip in target directory\n",
    "# !unzip \"examplefolder.zip\" -d ~/work/"
   ]
  },
  {
   "cell_type": "markdown",
   "id": "fe270bf4-0b7b-4b90-bb6a-ec4b8c98bb4e",
   "metadata": {
    "tags": []
   },
   "source": [
    "#### Delete folder"
   ]
  },
  {
   "cell_type": "code",
   "execution_count": 16,
   "id": "aefec47b-1656-4a93-97da-8a25d42026e2",
   "metadata": {
    "tags": []
   },
   "outputs": [],
   "source": [
    "rm -r \"examplefolder\""
   ]
  }
 ],
 "metadata": {
  "kernelspec": {
   "display_name": "Python 3 (ipykernel)",
   "language": "python",
   "name": "python3"
  },
  "language_info": {
   "codemirror_mode": {
    "name": "ipython",
    "version": 3
   },
   "file_extension": ".py",
   "mimetype": "text/x-python",
   "name": "python",
   "nbconvert_exporter": "python",
   "pygments_lexer": "ipython3",
   "version": "3.9.7"
  }
 },
 "nbformat": 4,
 "nbformat_minor": 5
}
