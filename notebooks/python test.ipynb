{
 "cells": [
  {
   "cell_type": "code",
   "execution_count": 2,
   "id": "98163b03-af98-4938-af72-9046d5a3adc8",
   "metadata": {},
   "outputs": [
    {
     "name": "stdout",
     "output_type": "stream",
     "text": [
      "555-1212 is a valid US local phone number\n",
      "ILL-EGAL rejected\n"
     ]
    }
   ],
   "source": [
    "import re\n",
    "for test_string in ['555-1212', 'ILL-EGAL']:\n",
    "    if re.match(r'^\\d{3}-\\d{4}$', test_string):\n",
    "        print (test_string, 'is a valid US local phone number')\n",
    "    else:\n",
    "        print (test_string, 'rejected')"
   ]
  },
  {
   "cell_type": "code",
   "execution_count": 1,
   "id": "8ec65180-5b61-4f80-8077-5f86ee044ae6",
   "metadata": {},
   "outputs": [
    {
     "name": "stdout",
     "output_type": "stream",
     "text": [
      "I owe the grocer $3.40\n"
     ]
    }
   ],
   "source": [
    "prices = {'apple': 0.40, 'banana': 0.50}\n",
    "my_purchase = {\n",
    "    'apple': 1,\n",
    "    'banana': 6}\n",
    "grocery_bill = sum(prices[fruit] * my_purchase[fruit]\n",
    "                   for fruit in my_purchase)\n",
    "print ('I owe the grocer $%.2f' % grocery_bill)"
   ]
  },
  {
   "cell_type": "code",
   "execution_count": 5,
   "id": "06ea9320-938e-4c3f-9957-a1cb87c465c5",
   "metadata": {},
   "outputs": [
    {
     "name": "stdout",
     "output_type": "stream",
     "text": [
      "**********************************************************************\n",
      "File \"__main__\", line 3, in __main__.median\n",
      "Failed example:\n",
      "    median([2, 9, 9, 7, 9, 2, 4, 5, 8])\n",
      "Expected:\n",
      "    6 #change to 7 in order to pass the test\n",
      "Got:\n",
      "    7\n",
      "**********************************************************************\n",
      "1 items had failures:\n",
      "   1 of   1 in __main__.median\n",
      "***Test Failed*** 1 failures.\n"
     ]
    }
   ],
   "source": [
    "def median(pool):\n",
    "    '''Statistical median to demonstrate doctest.\n",
    "    >>> median([2, 9, 9, 7, 9, 2, 4, 5, 8])\n",
    "    6 #change to 7 in order to pass the test\n",
    "    '''\n",
    "    copy = sorted(pool)\n",
    "    size = len(copy)\n",
    "    if size % 2 == 1:\n",
    "        return copy[int((size - 1) / 2)]\n",
    "    else:\n",
    "        return (copy[int(size/2 - 1)] + copy[int(size/2)]) / 2\n",
    "if __name__ == '__main__':\n",
    "    import doctest\n",
    "    doctest.testmod()"
   ]
  },
  {
   "cell_type": "code",
   "execution_count": 1,
   "id": "eb9d2574-cd7f-4560-8c5e-4218f0873894",
   "metadata": {},
   "outputs": [
    {
     "name": "stdin",
     "output_type": "stream",
     "text": [
      "Hello! What is your name?\n",
      " Vincent\n"
     ]
    },
    {
     "name": "stdout",
     "output_type": "stream",
     "text": [
      "Well, Vincent, I am thinking of a number between 1 and 20.\n"
     ]
    },
    {
     "name": "stdin",
     "output_type": "stream",
     "text": [
      "Take a guess:  13\n"
     ]
    },
    {
     "name": "stdout",
     "output_type": "stream",
     "text": [
      "Your guess is too high.\n"
     ]
    },
    {
     "name": "stdin",
     "output_type": "stream",
     "text": [
      "Take a guess:  9\n"
     ]
    },
    {
     "name": "stdout",
     "output_type": "stream",
     "text": [
      "Your guess is too low.\n"
     ]
    },
    {
     "name": "stdin",
     "output_type": "stream",
     "text": [
      "Take a guess:  11\n"
     ]
    },
    {
     "name": "stdout",
     "output_type": "stream",
     "text": [
      "Good job, Vincent! You guessed my number in 3 guesses!\n"
     ]
    }
   ],
   "source": [
    "import random\n",
    "\n",
    "guesses_made = 0\n",
    "\n",
    "name = input('Hello! What is your name?\\n')\n",
    "\n",
    "number = random.randint(1, 20)\n",
    "print ('Well, {0}, I am thinking of a number between 1 and 20.'.format(name))\n",
    "\n",
    "while guesses_made < 6:\n",
    "\n",
    "    guess = int(input('Take a guess: '))\n",
    "\n",
    "    guesses_made += 1\n",
    "\n",
    "    if guess < number:\n",
    "        print ('Your guess is too low.')\n",
    "\n",
    "    if guess > number:\n",
    "        print ('Your guess is too high.')\n",
    "\n",
    "    if guess == number:\n",
    "        break\n",
    "\n",
    "if guess == number:\n",
    "    print ('Good job, {0}! You guessed my number in {1} guesses!'.format(name, guesses_made))\n",
    "else:\n",
    "    print ('Nope. The number I was thinking of was {0}'.format(number))"
   ]
  },
  {
   "cell_type": "code",
   "execution_count": null,
   "id": "04500ec8-df6b-455f-ad85-ce8427ce9d5a",
   "metadata": {},
   "outputs": [],
   "source": []
  }
 ],
 "metadata": {
  "kernelspec": {
   "display_name": "Python 3 (ipykernel)",
   "language": "python",
   "name": "python3"
  },
  "language_info": {
   "codemirror_mode": {
    "name": "ipython",
    "version": 3
   },
   "file_extension": ".py",
   "mimetype": "text/x-python",
   "name": "python",
   "nbconvert_exporter": "python",
   "pygments_lexer": "ipython3",
   "version": "3.9.7"
  }
 },
 "nbformat": 4,
 "nbformat_minor": 5
}
